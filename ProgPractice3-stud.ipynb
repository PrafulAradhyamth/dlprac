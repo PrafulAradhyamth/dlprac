{
 "cells": [
  {
   "attachments": {},
   "cell_type": "markdown",
   "metadata": {},
   "source": [
    "# Programming Practice III"
   ]
  },
  {
   "attachments": {},
   "cell_type": "markdown",
   "metadata": {},
   "source": [
    "## 1 Overview"
   ]
  },
  {
   "attachments": {},
   "cell_type": "markdown",
   "metadata": {},
   "source": [
    "## 2 Tasks"
   ]
  },
  {
   "cell_type": "code",
   "execution_count": 2,
   "metadata": {
    "ExecuteTime": {
     "end_time": "2021-03-19T07:21:18.342916Z",
     "start_time": "2021-03-19T07:21:17.997829Z"
    }
   },
   "outputs": [],
   "source": [
    "import numpy as np\n",
    "import matplotlib.pyplot as plt"
   ]
  },
  {
   "attachments": {},
   "cell_type": "markdown",
   "metadata": {},
   "source": [
    "### 2.1 Define Neural Network"
   ]
  },
  {
   "cell_type": "code",
   "execution_count": 23,
   "metadata": {
    "ExecuteTime": {
     "end_time": "2021-03-19T07:21:18.372191Z",
     "start_time": "2021-03-19T07:21:18.344404Z"
    }
   },
   "outputs": [],
   "source": [
    "# ----- useful functions from P2 -----\n",
    "def create_toy_dataset(n_samples=100):\n",
    "    x = np.linspace(-1,1,n_samples)\n",
    "    y = 0.1*x + x**2 + x**3\n",
    "    x = x.reshape(x.shape[0],1)\n",
    "    y = y.reshape(y.shape[0],1)\n",
    "    return x,y\n",
    "\n",
    "def mse(y_true, y_pred):\n",
    "    return np.sum((y_pred-y_true)**2)/y_true.shape[0]\n",
    "    # TODO\n",
    "\n",
    "def derivative_mse(y_true, y_pred):\n",
    "    return -2*(np.sum((y_pred-y_true))/y_true.shape[0])\n",
    "    # TODO\n",
    "\n",
    "def sigmoid(x):\n",
    "    return 1/(1+np.exp(-x))\n",
    "\n",
    "def derivative_sigmoid(x):\n",
    "    return sigmoid(x)*(1-sigmoid(x))\n",
    "    # TODO\n",
    "\n",
    "#def update_parameters(parameters, gradient, learning_rate):\n",
    "    \n",
    "def update_parameters(w1, b1, w2, b2, dLdw1, dLdb1, dLdw2, dLdb2, learning_rate):\n",
    "    w1 -=(learning_rate*dLdw1.T)\n",
    "    b1 -=(learning_rate*dLdb1)\n",
    "    w2 -=(learning_rate*dLdw2)\n",
    "    b2 -=(learning_rate*dLdb2)\n",
    "    return w1, b1, w2, b2\n",
    "\n",
    "# ----- ReLU and its derivative -----\n",
    "def relu(x):\n",
    "    return x * (x > 0)\n",
    "    # TODO\n",
    "\n",
    "def derivative_relu(x):\n",
    "    return 1 * (x > 0)\n",
    "\n",
    "def forward_pass(x, w1, b1, w2, b2):\n",
    "    x=x.reshape(x.shape[0],1)\n",
    "    # Output layer\n",
    "    y_hat = np.dot(relu(np.dot(x, w1.T) + b1.T),w2) + b2\n",
    "    return y_hat\n",
    "\n",
    "def cal_gradient(x, y, y_hat, w1, b1, w2, b2):\n",
    "    # Hidden layer\n",
    "    Z1 = np.dot(x, w1.T) + b1.T\n",
    "    A1 = sigmoid(Z1)\n",
    "\n",
    "    # Output layer\n",
    "    y_hat = np.dot(A1, w2) + b2\n",
    "    \n",
    "    \n",
    "    \n",
    "    m = x.shape[0]\n",
    "\n",
    "    # Output layer\n",
    "    dZ2 = y_hat - y\n",
    "    dLdw2 = (1 / m) * np.dot(A1.T, dZ2)\n",
    "    dLdb2 = (1 / m) * np.sum(dZ2, axis=0)\n",
    "\n",
    "    # Hidden layer\n",
    "    dZ1 = np.dot(dZ2, w2.T) * derivative_sigmoid(A1)\n",
    "    dLdw1 = (1 / m) * np.dot(x.T, dZ1)\n",
    "    dLdb1 = (1 / m) * np.sum(dZ1, axis=0)\n",
    "    dLdb1 = dLdb1.reshape(dLdb1.shape[0],1)\n",
    "    \n",
    "    return dLdw1, dLdb1, dLdw2, dLdb2"
   ]
  },
  {
   "cell_type": "code",
   "execution_count": 24,
   "metadata": {
    "ExecuteTime": {
     "end_time": "2021-03-19T07:21:18.382100Z",
     "start_time": "2021-03-19T07:21:18.374661Z"
    }
   },
   "outputs": [],
   "source": [
    "class NeuralNetwork():\n",
    "    def __init__(self, x, y, w1, b1, w2, b2, learning_rate, epcohs):\n",
    "        np.random.seed(42)\n",
    "        #n_nuerons_hidden_size = 500\n",
    "        self.learning_rate = learning_rate\n",
    "        self.w1 = w1\n",
    "        self.w2 = w2\n",
    "        self.b1 = b1\n",
    "        self.b2 = b2\n",
    "        self.x = x\n",
    "        self.y = y\n",
    "        self. epcohs = epcohs \n",
    "        \n",
    "        \n",
    "        # TODO\n",
    "    \n",
    "    def train(self):\n",
    "        #n_inputs = self.x.shape[1]\n",
    "\n",
    "        #a = np.array([1])\n",
    "        for i in range(self.epcohs):\n",
    "            # Forward propagation\n",
    "            #A1, A2 = forward_propagation(X, W1, b1, W2, b2)\n",
    "\n",
    "            # Backward propagation\n",
    "            y_hat = forward_pass(self.x, self.w1, self.b1, self.w2, self.b2)\n",
    "            dLdw1, dLdb1, dLdw2, dLdb2 = cal_gradient(self.x, self.y, y_hat,self.w1, self.b1, self.w2, self.b2)\n",
    "            self.w1, self.b1, self.w2, self.b2 = update_parameters(self.w1, self.b1, self.w2, self.b2, dLdw1, dLdb1, dLdw2, dLdb2, self.learning_rate)\n",
    "            \n",
    "\n",
    "            if (i+1) % 500 == 0:\n",
    "                loss = mse(self.y, y_hat)\n",
    "                #a = np.append(a, loss)\n",
    "                print(f\"Epoch: {i+1}, Loss: {loss}\")\n",
    "\n",
    "        return self.w1 , self.b1, self.w2, self.b2\n",
    "    \n",
    "        \n",
    "    def predict(self):\n",
    "        self.x=self.x.reshape(self.x.shape[0],1)\n",
    "        # Output layer\n",
    "        y_hat = np.dot(sigmoid(np.dot(self.x, self.w1.T) + self.b1.T),self.w2) + self.b2\n",
    "        return y_hat\n",
    "    \n"
   ]
  },
  {
   "attachments": {},
   "cell_type": "markdown",
   "metadata": {},
   "source": [
    "### 2.2 Parameter Initialization"
   ]
  },
  {
   "cell_type": "code",
   "execution_count": 25,
   "metadata": {
    "ExecuteTime": {
     "end_time": "2021-03-19T07:21:18.390037Z",
     "start_time": "2021-03-19T07:21:18.384084Z"
    }
   },
   "outputs": [],
   "source": [
    "def initialize_parameters(method = 'None', num_neurons = 500):\n",
    "\n",
    "    # TODO: hyperparameters, parameter initialization, Initialize weights and biases\n",
    "\n",
    "    np.random.seed(42)\n",
    "    n_nuerons_hidden_size = num_neurons\n",
    "    \n",
    "    method = ['a','b']\n",
    "    w1 = np.random.randn(n_nuerons_hidden_size,1)\n",
    "    b1 = np.zeros((n_nuerons_hidden_size,1))\n",
    "    w2 = np.random.randn(n_nuerons_hidden_size, 1)\n",
    "    b2 = np.zeros((1, 1))\n",
    "    return w1, b1, w2, b2"
   ]
  },
  {
   "cell_type": "code",
   "execution_count": 26,
   "metadata": {},
   "outputs": [
    {
     "name": "stdout",
     "output_type": "stream",
     "text": [
      "Epoch: 500, Loss: 2.3547234236394394\n",
      "Epoch: 1000, Loss: 3.4056048289119842\n",
      "Epoch: 1500, Loss: 5.100422489303515\n",
      "Epoch: 2000, Loss: 7.349682266616241\n",
      "Epoch: 2500, Loss: 10.069711316568572\n",
      "Epoch: 3000, Loss: 13.184676321203428\n",
      "Epoch: 3500, Loss: 16.629586371854572\n",
      "Epoch: 4000, Loss: 20.340333861043792\n",
      "Epoch: 4500, Loss: 24.273185844515755\n",
      "Epoch: 5000, Loss: 28.39509422553733\n"
     ]
    }
   ],
   "source": [
    "# TODO: train neural networks with different intialization methods\n",
    "# TODO: visualize the results\n",
    "# datasets # Generate sample input data\n",
    "\n",
    "n_samples = 1000\n",
    "x , y = create_toy_dataset(n_samples)\n",
    "\n",
    "\n",
    "# TODO: hyperparameters, parameter initialization, Initialize weights and biases\n",
    "\n",
    "w1, b1, w2, b2 = initialize_parameters(method = 'None', num_neurons = 500)\n",
    "\n",
    "learning_rate = 0.01\n",
    "epcohs = 5000\n",
    "\n",
    "\n",
    "# TODO: training\n",
    "NN = NeuralNetwork(x, y, w1, b1, w2, b2, learning_rate, epcohs)\n",
    "w1, b1, w2, b2 = NN.train()\n",
    "\n",
    "#x, y,  w1, b1,  w2, b2, learning_rate , epcohs\n",
    "# Normalize the input data\n",
    "#X_normalized = X / np.max(X)\n",
    "\n",
    "# Train the neural network\n",
    "\n",
    "\n",
    "# Predict using the trained network\n",
    "predictions = NN.predict()"
   ]
  },
  {
   "attachments": {},
   "cell_type": "markdown",
   "metadata": {},
   "source": [
    "### 2.3 Learning Rate"
   ]
  },
  {
   "cell_type": "code",
   "execution_count": 27,
   "metadata": {
    "ExecuteTime": {
     "end_time": "2021-03-19T07:22:13.812325Z",
     "start_time": "2021-03-19T07:22:13.630270Z"
    }
   },
   "outputs": [
    {
     "data": {
      "text/plain": [
       "[<matplotlib.lines.Line2D at 0x2c06a2a0e10>]"
      ]
     },
     "execution_count": 27,
     "metadata": {},
     "output_type": "execute_result"
    },
    {
     "data": {
      "image/png": "[encoded data removed]",
      "text/plain": [
       "<Figure size 640x480 with 1 Axes>"
      ]
     },
     "metadata": {},
     "output_type": "display_data"
    }
   ],
   "source": [
    "# TODO: train neural networks with different learning rates\n",
    "# TODO: visualize the results\n",
    "\n",
    "plt.plot(x,y)\n",
    "plt.plot(x,predictions)"
   ]
  },
  {
   "attachments": {},
   "cell_type": "markdown",
   "metadata": {},
   "source": [
    "### 2.4 Network Capacity"
   ]
  },
  {
   "cell_type": "code",
   "execution_count": null,
   "metadata": {
    "ExecuteTime": {
     "end_time": "2021-03-19T07:22:39.751160Z",
     "start_time": "2021-03-19T07:22:39.571085Z"
    }
   },
   "outputs": [],
   "source": [
    "# TODO: train neural networks with different capacities\n",
    "# TODO: visualize the results"
   ]
  },
  {
   "attachments": {},
   "cell_type": "markdown",
   "metadata": {},
   "source": [
    "### 2.5 Regularization"
   ]
  },
  {
   "cell_type": "code",
   "execution_count": null,
   "metadata": {
    "ExecuteTime": {
     "end_time": "2021-03-19T07:22:39.760578Z",
     "start_time": "2021-03-19T07:22:39.752620Z"
    }
   },
   "outputs": [],
   "source": [
    "class NeuralNetwork():\n",
    "    def __init__(self, parameters, learning_rate, step):\n",
    "        # TODO\n",
    "    \n",
    "    def train(self, x, y, epochs, decay):\n",
    "        # TODO\n",
    "        # You can modify here to add the gradients for the regularization terms\n",
    "    \n",
    "    def predict(self, x):\n",
    "        # TODO"
   ]
  },
  {
   "cell_type": "code",
   "execution_count": null,
   "metadata": {},
   "outputs": [],
   "source": [
    "# TODO: train neural networks with different decays\n",
    "# TODO: visualize the results"
   ]
  },
  {
   "cell_type": "code",
   "execution_count": null,
   "metadata": {},
   "outputs": [
    {
     "name": "stdout",
     "output_type": "stream",
     "text": [
      "Account Details:\n",
      "Account Number: SA001\n",
      "Account Holder: John Doe\n",
      "Balance: 5000\n",
      "balance 7000\n",
      "Withdrew 1500. New balance: 5500\n",
      "Interest calculated: 275.0. New balance: 5775.0\n",
      "Account Details:\n",
      "Account Number: CA001\n",
      "Account Holder: Jane Smith\n",
      "Balance: 10000\n",
      "Withdrew 12000. New balance: 1000\n"
     ]
    }
   ],
   "source": [
    "class Account:\n",
    "    def __init__(self, account_number, account_holder, balance):\n",
    "        self.account_number = account_number\n",
    "        self.account_holder = account_holder\n",
    "        self.balance = balance\n",
    "\n",
    "    def deposit(self, amount):\n",
    "        self.balance += amount\n",
    "        #print(f\"Deposited {amount}. New balance: {self.balance}\")\n",
    "        return self.balance\n",
    "\n",
    "    def withdraw(self, amount):\n",
    "        if amount <= self.balance:\n",
    "            self.balance -= amount\n",
    "            print(f\"Withdrew {amount}. New balance: {self.balance}\")\n",
    "        else:\n",
    "            print(\"Insufficient balance!\")\n",
    "\n",
    "    def display_details(self):\n",
    "        print(\"Account Details:\")\n",
    "        print(f\"Account Number: {self.account_number}\")\n",
    "        print(f\"Account Holder: {self.account_holder}\")\n",
    "        print(f\"Balance: {self.balance}\")\n",
    "\n",
    "\n",
    "class SavingsAccount(Account):\n",
    "    def __init__(self, account_number, account_holder, balance, interest_rate):\n",
    "        super().__init__(account_number, account_holder, balance)\n",
    "        self.interest_rate = interest_rate\n",
    "\n",
    "    def calculate_interest(self):\n",
    "        interest = self.balance * (self.interest_rate / 100)\n",
    "        self.balance += interest\n",
    "        print(f\"Interest calculated: {interest}. New balance: {self.balance}\")\n",
    "\n",
    "    def withdraw(self, amount):\n",
    "        super().withdraw(amount)  # Call the withdraw method of the base class\n",
    "        self.calculate_interest()\n",
    "\n",
    "\n",
    "class CurrentAccount(Account):\n",
    "    def __init__(self, account_number, account_holder, balance, overdraft_limit):\n",
    "        super().__init__(account_number, account_holder, balance)\n",
    "        self.overdraft_limit = overdraft_limit\n",
    "\n",
    "    def withdraw(self, amount):\n",
    "        if amount <= (self.balance + self.overdraft_limit):\n",
    "            self.balance -= amount\n",
    "            print(f\"Withdrew {amount}. New balance: {self.balance}\")\n",
    "        else:\n",
    "            print(\"Cannot withdraw beyond overdraft limit!\")\n",
    "\n",
    "# Example usage\n",
    "savings_account = SavingsAccount(\"SA001\", \"John Doe\", 5000, 5)\n",
    "savings_account.display_details()  # Output account details\n",
    "\n",
    "balance = savings_account.deposit(2000)  # Deposit money\n",
    "print('balance',balance)\n",
    "savings_account.withdraw(1500)  # Withdraw money\n",
    "\n",
    "current_account = CurrentAccount(\"CA001\", \"Jane Smith\", 10000, 5000)\n",
    "current_account.display_details()  # Output account details\n",
    "\n",
    "current_account.deposit(3000)  # Deposit money\n",
    "current_account.withdraw(12000)  # Attempt to withdraw more than balance + overdraft limit\n"
   ]
  },
  {
   "cell_type": "code",
   "execution_count": null,
   "metadata": {},
   "outputs": [],
   "source": []
  }
 ],
 "metadata": {
  "kernelspec": {
   "display_name": "Python 3",
   "language": "python",
   "name": "python3"
  },
  "language_info": {
   "codemirror_mode": {
    "name": "ipython",
    "version": 3
   },
   "file_extension": ".py",
   "mimetype": "text/x-python",
   "name": "python",
   "nbconvert_exporter": "python",
   "pygments_lexer": "ipython3",
   "version": "3.11.4"
  },
  "toc": {
   "base_numbering": 1,
   "nav_menu": {},
   "number_sections": false,
   "sideBar": false,
   "skip_h1_title": false,
   "title_cell": "Table of Contents",
   "title_sidebar": "Contents",
   "toc_cell": false,
   "toc_position": {
    "height": "830.4px",
    "left": "21px",
    "top": "133.6px",
    "width": "409.6px"
   },
   "toc_section_display": true,
   "toc_window_display": true
  }
 },
 "nbformat": 4,
 "nbformat_minor": 4
}
