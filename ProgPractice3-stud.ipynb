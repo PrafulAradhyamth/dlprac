{
 "cells": [
  {
   "attachments": {},
   "cell_type": "markdown",
   "metadata": {},
   "source": [
    "# Programming Practice III"
   ]
  },
  {
   "attachments": {},
   "cell_type": "markdown",
   "metadata": {},
   "source": [
    "## 1 Overview"
   ]
  },
  {
   "attachments": {},
   "cell_type": "markdown",
   "metadata": {},
   "source": [
    "## 2 Tasks"
   ]
  },
  {
   "cell_type": "code",
   "execution_count": 11,
   "metadata": {
    "ExecuteTime": {
     "end_time": "2021-03-19T07:21:18.342916Z",
     "start_time": "2021-03-19T07:21:17.997829Z"
    }
   },
   "outputs": [],
   "source": [
    "import numpy as np\n",
    "import matplotlib.pyplot as plt"
   ]
  },
  {
   "attachments": {},
   "cell_type": "markdown",
   "metadata": {},
   "source": [
    "### 2.1 Define Neural Network"
   ]
  },
  {
   "cell_type": "code",
   "execution_count": 34,
   "metadata": {
    "ExecuteTime": {
     "end_time": "2021-03-19T07:21:18.372191Z",
     "start_time": "2021-03-19T07:21:18.344404Z"
    }
   },
   "outputs": [],
   "source": [
    "# ----- useful functions from P2 -----\n",
    "def create_toy_dataset(n_samples=100):\n",
    "    x = np.linspace(-1,1,n_samples)\n",
    "    y = 0.1*x + x**2 + x**3\n",
    "    x = x.reshape(x.shape[0],1)\n",
    "    y = y.reshape(y.shape[0],1)\n",
    "    return x,y\n",
    "\n",
    "def mse(y_true, y_pred):\n",
    "    return np.mean((y_pred-y_true)**2)\n",
    "\n",
    "\n",
    "def derivative_mse(y_true, y_pred):\n",
    "    return -2*(np.mean((y_pred-y_true)))\n",
    "    # TODO\n",
    "\n",
    "\n",
    "\n",
    "#def update_parameters(parameters, gradient, learning_rate):\n",
    "    \n",
    "def update_parameters(w1, b1, w2, b2, dLdw1, dLdb1, dLdw2, dLdb2, learning_rate):\n",
    "    w1 -=(learning_rate*dLdw1.T)\n",
    "    b1 -=(learning_rate*dLdb1)\n",
    "    w2 -=(learning_rate*dLdw2)\n",
    "    b2 -=(learning_rate*dLdb2)\n",
    "    return w1, b1, w2, b2\n",
    "\n",
    "# ----- ReLU and its derivative -----\n",
    "def relu(x):\n",
    "    return x * (x > 0)\n",
    "    # TODO\n",
    "\n",
    "def derivative_relu(x):\n",
    "    return 1 * (x > 0)\n",
    "\n",
    "# sigmoid and its derivative\n",
    "def sigmoid(x):\n",
    "    return 1/(1+np.exp(-x))\n",
    "\n",
    "def derivative_sigmoid(x):\n",
    "    return sigmoid(x)*(1-sigmoid(x))\n",
    "\n",
    "# forward pass or prediction \n",
    "def forward_pass(x, w1, b1, w2, b2):\n",
    "    x=x.reshape(x.shape[0],1)\n",
    "    # Output layer\n",
    "    y_hat = np.dot(relu(np.dot(x, int(w1.T)) + int(b1.T)),w2) + b2\n",
    "    return y_hat\n",
    "\n",
    "def cal_gradient(x, y, y_hat, w1, b1, w2, b2):\n",
    "    # Hidden layer\n",
    "    Z1 = np.dot(x, w1.T) + b1.T\n",
    "    A1 = sigmoid(Z1)\n",
    "    # Output layer\n",
    "    y_hat = np.dot(A1, w2) + b2\n",
    "    m = x.shape[0]\n",
    "    # Output layer\n",
    "    dZ2 = y_hat - y\n",
    "    dLdw2 = (1 / m) * np.dot(A1.T, dZ2)\n",
    "    dLdb2 = (1 / m) * np.sum(dZ2, axis=0)\n",
    "    # Hidden layer\n",
    "    dZ1 = np.dot(dZ2, w2.T) * derivative_sigmoid(A1)\n",
    "    dLdw1 = (1 / m) * np.dot(x.T, dZ1)\n",
    "    dLdb1 = (1 / m) * np.sum(dZ1, axis=0)\n",
    "    dLdb1 = dLdb1.reshape(dLdb1.shape[0],1)\n",
    "    return dLdw1, dLdb1, dLdw2, dLdb2"
   ]
  },
  {
   "cell_type": "code",
   "execution_count": 13,
   "metadata": {
    "ExecuteTime": {
     "end_time": "2021-03-19T07:21:18.382100Z",
     "start_time": "2021-03-19T07:21:18.374661Z"
    }
   },
   "outputs": [],
   "source": [
    "class NeuralNetwork():\n",
    "    def __init__(self, x, y, w1, b1, w2, b2, learning_rate, epcohs,step):\n",
    "        np.random.seed(42)\n",
    "        #n_nuerons_hidden_size = 500\n",
    "        self.learning_rate = learning_rate\n",
    "        self.w1 = w1\n",
    "        self.w2 = w2\n",
    "        self.b1 = b1\n",
    "        self.b2 = b2\n",
    "        self.x = x\n",
    "        self.y = y\n",
    "        self. epcohs = epcohs \n",
    "        self.step = step\n",
    "        #step defines how often do you want to print the loss output whilst training\n",
    "    \n",
    "    def train(self):\n",
    "        #n_inputs = self.x.shape[1]\n",
    "\n",
    "        losses = np.array([1])\n",
    "        for i in range(self.epcohs):\n",
    "            # Forward propagation\n",
    "            y_hat = forward_pass(self.x, self.w1, self.b1, self.w2, self.b2)\n",
    "            # Backward propagation\n",
    "            dLdw1, dLdb1, dLdw2, dLdb2 = cal_gradient(self.x, self.y, y_hat,self.w1, self.b1, self.w2, self.b2)\n",
    "            self.w1, self.b1, self.w2, self.b2 = update_parameters(self.w1, self.b1, self.w2, self.b2, dLdw1, dLdb1, dLdw2, dLdb2, self.learning_rate)\n",
    "            \n",
    "\n",
    "            if (i+1) % self.step == 0:\n",
    "                loss = mse(self.y, y_hat)\n",
    "                losses = np.append(losses, loss)\n",
    "                #print(self.y,y_hat)\n",
    "                print(f\"Epoch: {i+1}, Loss: {loss}\")\n",
    "\n",
    "        return self.w1 , self.b1, self.w2, self.b2 ,losses\n",
    "    \n",
    "        \n",
    "    def losses(losses):\n",
    "        return losses\n",
    "\n",
    "    def predict(self):\n",
    "        #self.x=self.x.reshape(self.x.shape[0],1)\n",
    "        # Output layer\n",
    "        y_hat = np.dot(sigmoid(np.dot(self.x, self.w1.T) + self.b1.T),self.w2) + self.b2\n",
    "        return y_hat\n",
    "    \n"
   ]
  },
  {
   "attachments": {},
   "cell_type": "markdown",
   "metadata": {},
   "source": [
    "### 2.2 Parameter Initialization"
   ]
  },
  {
   "cell_type": "code",
   "execution_count": 29,
   "metadata": {
    "ExecuteTime": {
     "end_time": "2021-03-19T07:21:18.390037Z",
     "start_time": "2021-03-19T07:21:18.384084Z"
    }
   },
   "outputs": [],
   "source": [
    "def initialize_parameters(method = 'Random', num_neurons = 500):\n",
    "\n",
    "    # TODO: hyperparameters, parameter initialization, Initialize weights and biases\n",
    "    methods = ['Zero','Random','Xavier','HE','Uniform','Pretrained']\n",
    "    np.random.seed(42)\n",
    "    n_nuerons_hidden_size = num_neurons\n",
    "    if method == methods[0]:\n",
    "        w1 = np.zeros((n_nuerons_hidden_size,1))\n",
    "        b1 = np.zeros((n_nuerons_hidden_size,1))\n",
    "        w2 = np.zeros((n_nuerons_hidden_size, 1))\n",
    "        b2 = np.zeros((1, 1))\n",
    "\n",
    "    elif method == methods[1]:\n",
    "            w1 = np.random.randn(n_nuerons_hidden_size,1)\n",
    "            b1 = np.random.randn(n_nuerons_hidden_size,1)\n",
    "            w2 = np.random.randn(n_nuerons_hidden_size, 1)\n",
    "            b2 = np.random.randn(1, 1)\n",
    "\n",
    "    elif method == methods[2]:\n",
    "            xavier_variance = 1 / n_nuerons_hidden_size\n",
    "            w1 = np.random.randn(n_nuerons_hidden_size,1)* np.sqrt(xavier_variance)\n",
    "            b1 = np.random.randn(n_nuerons_hidden_size,1)* np.sqrt(xavier_variance)\n",
    "            w2 = np.random.randn(n_nuerons_hidden_size, 1)* np.sqrt(xavier_variance)\n",
    "            b2 = np.random.randn(1, 1)* np.sqrt(xavier_variance)\n",
    "\n",
    "    elif method == methods[3]:\n",
    "            he_variance = 2 / n_nuerons_hidden_size\n",
    "            w1 = np.random.randn(n_nuerons_hidden_size,1)* np.sqrt(he_variance)\n",
    "            b1 = np.random.randn(n_nuerons_hidden_size,1)* np.sqrt(he_variance)\n",
    "            w2 = np.random.randn(n_nuerons_hidden_size, 1)* np.sqrt(he_variance)\n",
    "            b2 = np.random.randn(1, 1)* np.sqrt(he_variance)\n",
    "    \n",
    "    elif method == methods[4]:\n",
    "            w1 = np.random.uniform(n_nuerons_hidden_size,1)\n",
    "            b1 = np.random.uniform(n_nuerons_hidden_size,1)\n",
    "            w2 = np.random.uniform(n_nuerons_hidden_size, 1)\n",
    "            b2 = np.random.uniform(1, 1)\n",
    "\n",
    "    elif method == methods[5]:\n",
    "            w1 = np.random.randn(n_nuerons_hidden_size,1)\n",
    "            b1 = np.zeros((n_nuerons_hidden_size,1))\n",
    "            w2 = np.random.randn(n_nuerons_hidden_size, 1)\n",
    "            b2 = np.zeros((1, 1))\n",
    "\n",
    "    return w1, b1, w2, b2"
   ]
  },
  {
   "cell_type": "code",
   "execution_count": 21,
   "metadata": {},
   "outputs": [
    {
     "name": "stdout",
     "output_type": "stream",
     "text": [
      "Epoch: 500, Loss: 0.38620712168841626\n",
      "Epoch: 1000, Loss: 0.3862997451861116\n",
      "Epoch: 1500, Loss: 0.38653273881617606\n",
      "Epoch: 2000, Loss: 0.38690660010006256\n",
      "Epoch: 2500, Loss: 0.3874221847954637\n",
      "Epoch: 3000, Loss: 0.3880807082293372\n",
      "Epoch: 3500, Loss: 0.38888374752844596\n",
      "Epoch: 4000, Loss: 0.3898332447460245\n",
      "Epoch: 4500, Loss: 0.3909315108850369\n",
      "Epoch: 5000, Loss: 0.3921812308181034\n",
      "Epoch: 5500, Loss: 0.3935854691219534\n",
      "Epoch: 6000, Loss: 0.3951476768098789\n",
      "Epoch: 6500, Loss: 0.39687169899036123\n",
      "Epoch: 7000, Loss: 0.3987617834537496\n",
      "Epoch: 7500, Loss: 0.4008225902004363\n",
      "Epoch: 8000, Loss: 0.4030592019242567\n",
      "Epoch: 8500, Loss: 0.4054771354665152\n",
      "Epoch: 9000, Loss: 0.4080823542576437\n",
      "Epoch: 9500, Loss: 0.41088128176506883\n",
      "Epoch: 10000, Loss: 0.41388081596735593\n"
     ]
    }
   ],
   "source": [
    "# TODO: train neural networks with different intialization methods\n",
    "# TODO: visualize the results\n",
    "# datasets # Generate sample input data\n",
    "\n",
    "n_samples = 1000\n",
    "x , y = create_toy_dataset(n_samples)\n",
    "\n",
    "\n",
    "# TODO: hyperparameters, parameter initialization, Initialize weights and biases\n",
    "# different types of initialization are: \n",
    "# 'Zero','Random','Xavier','HE','Uniform','Pretrained'\n",
    "w1, b1, w2, b2 = initialize_parameters(method = 'Zero', num_neurons = 500)\n",
    "\n",
    "learning_rate = 0.01\n",
    "epcohs = 10000\n",
    "step = 500\n",
    "\n",
    "# TODO: training\n",
    "NN = NeuralNetwork(x, y, w1, b1, w2, b2, learning_rate, epcohs, step)\n",
    "w1, b1, w2, b2 , losses = NN.train()\n",
    "\n",
    "#x, y,  w1, b1,  w2, b2, learning_rate , epcohs\n",
    "# Normalize the input data\n",
    "#X_normalized = X / np.max(X)\n",
    "\n",
    "# Train the neural network\n",
    "\n",
    "\n",
    "# Predict using the trained network\n",
    "predictions = NN.predict()"
   ]
  },
  {
   "attachments": {},
   "cell_type": "markdown",
   "metadata": {},
   "source": [
    "### 2.3 Learning Rate"
   ]
  },
  {
   "cell_type": "code",
   "execution_count": 16,
   "metadata": {
    "ExecuteTime": {
     "end_time": "2021-03-19T07:22:13.812325Z",
     "start_time": "2021-03-19T07:22:13.630270Z"
    }
   },
   "outputs": [
    {
     "data": {
      "text/plain": [
       "[<matplotlib.lines.Line2D at 0x22046a9a9d0>]"
      ]
     },
     "execution_count": 16,
     "metadata": {},
     "output_type": "execute_result"
    },
    {
     "data": {
      "image/png": "[encoded data removed]",
      "text/plain": [
       "<Figure size 640x480 with 1 Axes>"
      ]
     },
     "metadata": {},
     "output_type": "display_data"
    }
   ],
   "source": [
    "# TODO: train neural networks with different learning rates\n",
    "# TODO: visualize the results\n",
    "\n",
    "plt.plot(x,y)\n",
    "plt.plot(x,predictions)"
   ]
  },
  {
   "cell_type": "code",
   "execution_count": 23,
   "metadata": {},
   "outputs": [
    {
     "name": "stdout",
     "output_type": "stream",
     "text": [
      "Epoch: 500, Loss: 74.51669469797058\n",
      "Epoch: 1000, Loss: 90.95597977176399\n",
      "Epoch: 1500, Loss: 102.47527314806912\n",
      "Epoch: 2000, Loss: 110.29188606257856\n",
      "Epoch: 2500, Loss: 115.51935604209523\n",
      "Epoch: 3000, Loss: 119.00421144832801\n",
      "Epoch: 3500, Loss: 121.34080243028413\n",
      "Epoch: 4000, Loss: 122.92982923559305\n",
      "Epoch: 4500, Loss: 124.0354820721599\n",
      "Epoch: 5000, Loss: 124.8296072470638\n",
      "Epoch: 5500, Loss: 125.42296932642729\n",
      "Epoch: 6000, Loss: 125.88680310123044\n",
      "Epoch: 6500, Loss: 126.26651938929226\n",
      "Epoch: 7000, Loss: 126.59120509728852\n",
      "Epoch: 7500, Loss: 126.87938450876929\n",
      "Epoch: 8000, Loss: 127.14289913564964\n",
      "Epoch: 8500, Loss: 127.38925530180946\n",
      "Epoch: 9000, Loss: 127.62331789425022\n",
      "Epoch: 9500, Loss: 127.84801603992162\n",
      "Epoch: 10000, Loss: 128.06541275918178\n"
     ]
    },
    {
     "data": {
      "text/plain": [
       "[<matplotlib.lines.Line2D at 0x22046caf290>]"
      ]
     },
     "execution_count": 23,
     "metadata": {},
     "output_type": "execute_result"
    },
    {
     "data": {
      "image/png": "[encoded data removed]",
      "text/plain": [
       "<Figure size 640x480 with 1 Axes>"
      ]
     },
     "metadata": {},
     "output_type": "display_data"
    }
   ],
   "source": [
    "# TODO: train neural networks with different intialization methods\n",
    "# TODO: visualize the results\n",
    "# datasets # Generate sample input data\n",
    "\n",
    "n_samples = 1000\n",
    "x , y = create_toy_dataset(n_samples)\n",
    "\n",
    "\n",
    "# TODO: hyperparameters, parameter initialization, Initialize weights and biases\n",
    "# different types of initialization are: \n",
    "# 'Zero','Random','Xavier','HE','Uniform','Pretrained'\n",
    "w1, b1, w2, b2 = initialize_parameters(method = 'Random', num_neurons = 500)\n",
    "\n",
    "learning_rate = 0.01\n",
    "epcohs = 10000\n",
    "step = 500\n",
    "\n",
    "# TODO: training\n",
    "NN = NeuralNetwork(x, y, w1, b1, w2, b2, learning_rate, epcohs, step)\n",
    "w1, b1, w2, b2 , losses = NN.train()\n",
    "\n",
    "#x, y,  w1, b1,  w2, b2, learning_rate , epcohs\n",
    "# Normalize the input data\n",
    "#X_normalized = X / np.max(X)\n",
    "\n",
    "# Train the neural network\n",
    "\n",
    "\n",
    "# Predict using the trained network\n",
    "predictions = NN.predict()\n",
    "\n",
    "plt.plot(x,y)\n",
    "plt.plot(x,predictions)"
   ]
  },
  {
   "cell_type": "code",
   "execution_count": 26,
   "metadata": {},
   "outputs": [
    {
     "name": "stdout",
     "output_type": "stream",
     "text": [
      "Epoch: 500, Loss: 0.25438358365309344\n",
      "Epoch: 1000, Loss: 0.19596056072447993\n",
      "Epoch: 1500, Loss: 0.1835105874971743\n",
      "Epoch: 2000, Loss: 0.2087158371155072\n",
      "Epoch: 2500, Loss: 0.24986810261228634\n",
      "Epoch: 3000, Loss: 0.2885457351816631\n",
      "Epoch: 3500, Loss: 0.3172066627021399\n",
      "Epoch: 4000, Loss: 0.3359395056294262\n",
      "Epoch: 4500, Loss: 0.34742266709564\n",
      "Epoch: 5000, Loss: 0.354286083738532\n",
      "Epoch: 5500, Loss: 0.35840277003401594\n",
      "Epoch: 6000, Loss: 0.36094558423537465\n",
      "Epoch: 6500, Loss: 0.3626046028604673\n",
      "Epoch: 7000, Loss: 0.3637729466275414\n",
      "Epoch: 7500, Loss: 0.3646707460119039\n",
      "Epoch: 8000, Loss: 0.36542004384473553\n",
      "Epoch: 8500, Loss: 0.3660882882151712\n",
      "Epoch: 9000, Loss: 0.36671257020606135\n",
      "Epoch: 9500, Loss: 0.3673132607400478\n",
      "Epoch: 10000, Loss: 0.3679016137323009\n"
     ]
    },
    {
     "data": {
      "text/plain": [
       "[<matplotlib.lines.Line2D at 0x22046edd650>]"
      ]
     },
     "execution_count": 26,
     "metadata": {},
     "output_type": "execute_result"
    },
    {
     "data": {
      "image/png": "[encoded data removed]",
      "text/plain": [
       "<Figure size 640x480 with 1 Axes>"
      ]
     },
     "metadata": {},
     "output_type": "display_data"
    }
   ],
   "source": [
    "# TODO: train neural networks with different intialization methods\n",
    "# TODO: visualize the results\n",
    "# datasets # Generate sample input data\n",
    "\n",
    "n_samples = 1000\n",
    "x , y = create_toy_dataset(n_samples)\n",
    "\n",
    "\n",
    "# TODO: hyperparameters, parameter initialization, Initialize weights and biases\n",
    "# different types of initialization are: \n",
    "# 'Zero','Random','Xavier','HE','Uniform','Pretrained'\n",
    "w1, b1, w2, b2 = initialize_parameters(method = 'Xavier', num_neurons = 500)\n",
    "\n",
    "learning_rate = 0.01\n",
    "epcohs = 10000\n",
    "step = 500\n",
    "\n",
    "# TODO: training\n",
    "NN = NeuralNetwork(x, y, w1, b1, w2, b2, learning_rate, epcohs, step)\n",
    "w1, b1, w2, b2 , losses = NN.train()\n",
    "\n",
    "#x, y,  w1, b1,  w2, b2, learning_rate , epcohs\n",
    "# Normalize the input data\n",
    "#X_normalized = X / np.max(X)\n",
    "\n",
    "# Train the neural network\n",
    "\n",
    "\n",
    "# Predict using the trained network\n",
    "predictions = NN.predict()\n",
    "\n",
    "plt.plot(x,y)\n",
    "plt.plot(x,predictions)"
   ]
  },
  {
   "cell_type": "code",
   "execution_count": 28,
   "metadata": {},
   "outputs": [
    {
     "name": "stdout",
     "output_type": "stream",
     "text": [
      "Epoch: 500, Loss: 0.18951190042409344\n",
      "Epoch: 1000, Loss: 0.174610396022035\n",
      "Epoch: 1500, Loss: 0.22013223716624636\n",
      "Epoch: 2000, Loss: 0.2719698029402148\n",
      "Epoch: 2500, Loss: 0.3096281525729253\n",
      "Epoch: 3000, Loss: 0.3324574175727768\n",
      "Epoch: 3500, Loss: 0.3452383451806238\n",
      "Epoch: 4000, Loss: 0.35222173465117224\n",
      "Epoch: 4500, Loss: 0.35609464977025523\n",
      "Epoch: 5000, Loss: 0.35835702929710095\n",
      "Epoch: 5500, Loss: 0.3598002300861894\n",
      "Epoch: 6000, Loss: 0.3608307645060609\n",
      "Epoch: 6500, Loss: 0.3616547751343578\n",
      "Epoch: 7000, Loss: 0.3623760583843185\n",
      "Epoch: 7500, Loss: 0.36304682074111627\n",
      "Epoch: 8000, Loss: 0.36369313797581493\n",
      "Epoch: 8500, Loss: 0.364328116554904\n",
      "Epoch: 9000, Loss: 0.3649583041776988\n",
      "Epoch: 9500, Loss: 0.3655870445869325\n",
      "Epoch: 10000, Loss: 0.3662159331362222\n"
     ]
    },
    {
     "data": {
      "text/plain": [
       "[<matplotlib.lines.Line2D at 0x22046d376d0>]"
      ]
     },
     "execution_count": 28,
     "metadata": {},
     "output_type": "execute_result"
    },
    {
     "data": {
      "image/png": "[encoded data removed]",
      "text/plain": [
       "<Figure size 640x480 with 1 Axes>"
      ]
     },
     "metadata": {},
     "output_type": "display_data"
    }
   ],
   "source": [
    "# TODO: train neural networks with different intialization methods\n",
    "# TODO: visualize the results\n",
    "# datasets # Generate sample input data\n",
    "\n",
    "n_samples = 1000\n",
    "x , y = create_toy_dataset(n_samples)\n",
    "\n",
    "\n",
    "# TODO: hyperparameters, parameter initialization, Initialize weights and biases\n",
    "# different types of initialization are: \n",
    "# 'Zero','Random','Xavier','HE','Uniform','Pretrained'\n",
    "w1, b1, w2, b2 = initialize_parameters(method = 'HE', num_neurons = 500)\n",
    "\n",
    "learning_rate = 0.01\n",
    "epcohs = 10000\n",
    "step = 500\n",
    "\n",
    "# TODO: training\n",
    "NN = NeuralNetwork(x, y, w1, b1, w2, b2, learning_rate, epcohs, step)\n",
    "w1, b1, w2, b2 , losses = NN.train()\n",
    "\n",
    "#x, y,  w1, b1,  w2, b2, learning_rate , epcohs\n",
    "# Normalize the input data\n",
    "#X_normalized = X / np.max(X)\n",
    "\n",
    "# Train the neural network\n",
    "\n",
    "\n",
    "# Predict using the trained network\n",
    "predictions = NN.predict()\n",
    "\n",
    "plt.plot(x,y)\n",
    "plt.plot(x,predictions)"
   ]
  },
  {
   "cell_type": "code",
   "execution_count": 31,
   "metadata": {},
   "outputs": [
    {
     "name": "stdout",
     "output_type": "stream",
     "text": [
      "Epoch: 500, Loss: 2.3547234236394394\n",
      "Epoch: 1000, Loss: 3.4056048289119842\n",
      "Epoch: 1500, Loss: 5.100422489303515\n",
      "Epoch: 2000, Loss: 7.349682266616241\n",
      "Epoch: 2500, Loss: 10.069711316568572\n",
      "Epoch: 3000, Loss: 13.184676321203428\n",
      "Epoch: 3500, Loss: 16.629586371854572\n",
      "Epoch: 4000, Loss: 20.340333861043792\n",
      "Epoch: 4500, Loss: 24.273185844515755\n",
      "Epoch: 5000, Loss: 28.39509422553733\n",
      "Epoch: 5500, Loss: 32.66820419705467\n",
      "Epoch: 6000, Loss: 37.04750815932263\n",
      "Epoch: 6500, Loss: 41.49837179639822\n",
      "Epoch: 7000, Loss: 45.99319555420666\n",
      "Epoch: 7500, Loss: 50.4958467713767\n",
      "Epoch: 8000, Loss: 54.989364560512826\n",
      "Epoch: 8500, Loss: 59.45152289439503\n",
      "Epoch: 9000, Loss: 63.860951486032846\n",
      "Epoch: 9500, Loss: 68.21066907791761\n",
      "Epoch: 10000, Loss: 72.4918617656978\n"
     ]
    },
    {
     "data": {
      "text/plain": [
       "[<matplotlib.lines.Line2D at 0x22046d95490>]"
      ]
     },
     "execution_count": 31,
     "metadata": {},
     "output_type": "execute_result"
    },
    {
     "data": {
      "image/png": "[encoded data removed]",
      "text/plain": [
       "<Figure size 640x480 with 1 Axes>"
      ]
     },
     "metadata": {},
     "output_type": "display_data"
    }
   ],
   "source": [
    "# TODO: train neural networks with different intialization methods\n",
    "# TODO: visualize the results\n",
    "# datasets # Generate sample input data\n",
    "\n",
    "n_samples = 1000\n",
    "x , y = create_toy_dataset(n_samples)\n",
    "\n",
    "\n",
    "# TODO: hyperparameters, parameter initialization, Initialize weights and biases\n",
    "# different types of initialization are: \n",
    "# 'Zero','Random','Xavier','HE','Uniform','Pretrained'\n",
    "w1, b1, w2, b2 = initialize_parameters(method = 'Pretrained', num_neurons = 500)\n",
    "\n",
    "learning_rate = 0.01\n",
    "epcohs = 10000\n",
    "step = 500\n",
    "\n",
    "# TODO: training\n",
    "NN = NeuralNetwork(x, y, w1, b1, w2, b2, learning_rate, epcohs, step)\n",
    "w1, b1, w2, b2 , losses = NN.train()\n",
    "\n",
    "#x, y,  w1, b1,  w2, b2, learning_rate , epcohs\n",
    "# Normalize the input data\n",
    "#X_normalized = X / np.max(X)\n",
    "\n",
    "# Train the neural network\n",
    "\n",
    "\n",
    "# Predict using the trained network\n",
    "predictions = NN.predict()\n",
    "\n",
    "plt.plot(x,y)\n",
    "plt.plot(x,predictions)"
   ]
  },
  {
   "cell_type": "code",
   "execution_count": 35,
   "metadata": {},
   "outputs": [
    {
     "ename": "AttributeError",
     "evalue": "'float' object has no attribute 'T'",
     "output_type": "error",
     "traceback": [
      "\u001b[1;31m---------------------------------------------------------------------------\u001b[0m",
      "\u001b[1;31mAttributeError\u001b[0m                            Traceback (most recent call last)",
      "Cell \u001b[1;32mIn[35], line 20\u001b[0m\n\u001b[0;32m     18\u001b[0m \u001b[39m# TODO: training\u001b[39;00m\n\u001b[0;32m     19\u001b[0m NN \u001b[39m=\u001b[39m NeuralNetwork(x, y, w1, b1, w2, b2, learning_rate, epcohs, step)\n\u001b[1;32m---> 20\u001b[0m w1, b1, w2, b2 , losses \u001b[39m=\u001b[39m NN\u001b[39m.\u001b[39;49mtrain()\n\u001b[0;32m     22\u001b[0m \u001b[39m#x, y,  w1, b1,  w2, b2, learning_rate , epcohs\u001b[39;00m\n\u001b[0;32m     23\u001b[0m \u001b[39m# Normalize the input data\u001b[39;00m\n\u001b[0;32m     24\u001b[0m \u001b[39m#X_normalized = X / np.max(X)\u001b[39;00m\n\u001b[1;32m   (...)\u001b[0m\n\u001b[0;32m     28\u001b[0m \n\u001b[0;32m     29\u001b[0m \u001b[39m# Predict using the trained network\u001b[39;00m\n\u001b[0;32m     30\u001b[0m predictions \u001b[39m=\u001b[39m NN\u001b[39m.\u001b[39mpredict()\n",
      "Cell \u001b[1;32mIn[13], line 22\u001b[0m, in \u001b[0;36mNeuralNetwork.train\u001b[1;34m(self)\u001b[0m\n\u001b[0;32m     19\u001b[0m losses \u001b[39m=\u001b[39m np\u001b[39m.\u001b[39marray([\u001b[39m1\u001b[39m])\n\u001b[0;32m     20\u001b[0m \u001b[39mfor\u001b[39;00m i \u001b[39min\u001b[39;00m \u001b[39mrange\u001b[39m(\u001b[39mself\u001b[39m\u001b[39m.\u001b[39mepcohs):\n\u001b[0;32m     21\u001b[0m     \u001b[39m# Forward propagation\u001b[39;00m\n\u001b[1;32m---> 22\u001b[0m     y_hat \u001b[39m=\u001b[39m forward_pass(\u001b[39mself\u001b[39;49m\u001b[39m.\u001b[39;49mx, \u001b[39mself\u001b[39;49m\u001b[39m.\u001b[39;49mw1, \u001b[39mself\u001b[39;49m\u001b[39m.\u001b[39;49mb1, \u001b[39mself\u001b[39;49m\u001b[39m.\u001b[39;49mw2, \u001b[39mself\u001b[39;49m\u001b[39m.\u001b[39;49mb2)\n\u001b[0;32m     23\u001b[0m     \u001b[39m# Backward propagation\u001b[39;00m\n\u001b[0;32m     24\u001b[0m     dLdw1, dLdb1, dLdw2, dLdb2 \u001b[39m=\u001b[39m cal_gradient(\u001b[39mself\u001b[39m\u001b[39m.\u001b[39mx, \u001b[39mself\u001b[39m\u001b[39m.\u001b[39my, y_hat,\u001b[39mself\u001b[39m\u001b[39m.\u001b[39mw1, \u001b[39mself\u001b[39m\u001b[39m.\u001b[39mb1, \u001b[39mself\u001b[39m\u001b[39m.\u001b[39mw2, \u001b[39mself\u001b[39m\u001b[39m.\u001b[39mb2)\n",
      "Cell \u001b[1;32mIn[34], line 47\u001b[0m, in \u001b[0;36mforward_pass\u001b[1;34m(x, w1, b1, w2, b2)\u001b[0m\n\u001b[0;32m     45\u001b[0m x\u001b[39m=\u001b[39mx\u001b[39m.\u001b[39mreshape(x\u001b[39m.\u001b[39mshape[\u001b[39m0\u001b[39m],\u001b[39m1\u001b[39m)\n\u001b[0;32m     46\u001b[0m \u001b[39m# Output layer\u001b[39;00m\n\u001b[1;32m---> 47\u001b[0m y_hat \u001b[39m=\u001b[39m np\u001b[39m.\u001b[39mdot(relu(np\u001b[39m.\u001b[39mdot(x, w1\u001b[39m.\u001b[39;49mT) \u001b[39m+\u001b[39m \u001b[39mint\u001b[39m(b1\u001b[39m.\u001b[39mT)),w2) \u001b[39m+\u001b[39m b2\n\u001b[0;32m     48\u001b[0m \u001b[39mreturn\u001b[39;00m y_hat\n",
      "\u001b[1;31mAttributeError\u001b[0m: 'float' object has no attribute 'T'"
     ]
    }
   ],
   "source": [
    "# TODO: train neural networks with different intialization methods\n",
    "# TODO: visualize the results\n",
    "# datasets # Generate sample input data\n",
    "\n",
    "n_samples = 1000\n",
    "x , y = create_toy_dataset(n_samples)\n",
    "\n",
    "\n",
    "# TODO: hyperparameters, parameter initialization, Initialize weights and biases\n",
    "# different types of initialization are: \n",
    "# 'Zero','Random','Xavier','HE','Uniform','Pretrained'\n",
    "w1, b1, w2, b2 = initialize_parameters(method = 'Uniform', num_neurons = 500)\n",
    "\n",
    "learning_rate = 0.01\n",
    "epcohs = 10000\n",
    "step = 500\n",
    "\n",
    "# TODO: training\n",
    "NN = NeuralNetwork(x, y, w1, b1, w2, b2, learning_rate, epcohs, step)\n",
    "w1, b1, w2, b2 , losses = NN.train()\n",
    "\n",
    "#x, y,  w1, b1,  w2, b2, learning_rate , epcohs\n",
    "# Normalize the input data\n",
    "#X_normalized = X / np.max(X)\n",
    "\n",
    "# Train the neural network\n",
    "\n",
    "\n",
    "# Predict using the trained network\n",
    "predictions = NN.predict()\n",
    "\n",
    "plt.plot(x,y)\n",
    "plt.plot(x,predictions)"
   ]
  },
  {
   "attachments": {},
   "cell_type": "markdown",
   "metadata": {},
   "source": [
    "### 2.4 Network Capacity"
   ]
  },
  {
   "cell_type": "code",
   "execution_count": 17,
   "metadata": {
    "ExecuteTime": {
     "end_time": "2021-03-19T07:22:39.751160Z",
     "start_time": "2021-03-19T07:22:39.571085Z"
    }
   },
   "outputs": [
    {
     "name": "stdout",
     "output_type": "stream",
     "text": [
      "0.27579374236953175\n"
     ]
    }
   ],
   "source": [
    "# TODO: train neural networks with different capacities\n",
    "# TODO: visualize the results\n",
    "\n",
    "print(mse(y, predictions))"
   ]
  },
  {
   "attachments": {},
   "cell_type": "markdown",
   "metadata": {},
   "source": [
    "### 2.5 Regularization"
   ]
  },
  {
   "cell_type": "code",
   "execution_count": 18,
   "metadata": {
    "ExecuteTime": {
     "end_time": "2021-03-19T07:22:39.760578Z",
     "start_time": "2021-03-19T07:22:39.752620Z"
    }
   },
   "outputs": [
    {
     "ename": "IndentationError",
     "evalue": "expected an indented block after function definition on line 2 (1097356877.py, line 5)",
     "output_type": "error",
     "traceback": [
      "\u001b[1;36m  Cell \u001b[1;32mIn[18], line 5\u001b[1;36m\u001b[0m\n\u001b[1;33m    def train(self, x, y, epochs, decay):\u001b[0m\n\u001b[1;37m    ^\u001b[0m\n\u001b[1;31mIndentationError\u001b[0m\u001b[1;31m:\u001b[0m expected an indented block after function definition on line 2\n"
     ]
    }
   ],
   "source": [
    "class NeuralNetwork():\n",
    "    def __init__(self, parameters, learning_rate, step):\n",
    "        # TODO\n",
    "    \n",
    "    def train(self, x, y, epochs, decay):\n",
    "        # TODO\n",
    "        # You can modify here to add the gradients for the regularization terms\n",
    "    \n",
    "    def predict(self, x):\n",
    "        # TODO"
   ]
  },
  {
   "cell_type": "code",
   "execution_count": null,
   "metadata": {},
   "outputs": [],
   "source": [
    "# TODO: train neural networks with different decays\n",
    "# TODO: visualize the results"
   ]
  },
  {
   "cell_type": "code",
   "execution_count": null,
   "metadata": {},
   "outputs": [
    {
     "name": "stdout",
     "output_type": "stream",
     "text": [
      "Account Details:\n",
      "Account Number: SA001\n",
      "Account Holder: John Doe\n",
      "Balance: 5000\n",
      "balance 7000\n",
      "Withdrew 1500. New balance: 5500\n",
      "Interest calculated: 275.0. New balance: 5775.0\n",
      "Account Details:\n",
      "Account Number: CA001\n",
      "Account Holder: Jane Smith\n",
      "Balance: 10000\n",
      "Withdrew 12000. New balance: 1000\n"
     ]
    }
   ],
   "source": [
    "class Account:\n",
    "    def __init__(self, account_number, account_holder, balance):\n",
    "        self.account_number = account_number\n",
    "        self.account_holder = account_holder\n",
    "        self.balance = balance\n",
    "\n",
    "    def deposit(self, amount):\n",
    "        self.balance += amount\n",
    "        #print(f\"Deposited {amount}. New balance: {self.balance}\")\n",
    "        return self.balance\n",
    "\n",
    "    def withdraw(self, amount):\n",
    "        if amount <= self.balance:\n",
    "            self.balance -= amount\n",
    "            print(f\"Withdrew {amount}. New balance: {self.balance}\")\n",
    "        else:\n",
    "            print(\"Insufficient balance!\")\n",
    "\n",
    "    def display_details(self):\n",
    "        print(\"Account Details:\")\n",
    "        print(f\"Account Number: {self.account_number}\")\n",
    "        print(f\"Account Holder: {self.account_holder}\")\n",
    "        print(f\"Balance: {self.balance}\")\n",
    "\n",
    "\n",
    "class SavingsAccount(Account):\n",
    "    def __init__(self, account_number, account_holder, balance, interest_rate):\n",
    "        super().__init__(account_number, account_holder, balance)\n",
    "        self.interest_rate = interest_rate\n",
    "\n",
    "    def calculate_interest(self):\n",
    "        interest = self.balance * (self.interest_rate / 100)\n",
    "        self.balance += interest\n",
    "        print(f\"Interest calculated: {interest}. New balance: {self.balance}\")\n",
    "\n",
    "    def withdraw(self, amount):\n",
    "        super().withdraw(amount)  # Call the withdraw method of the base class\n",
    "        self.calculate_interest()\n",
    "\n",
    "\n",
    "class CurrentAccount(Account):\n",
    "    def __init__(self, account_number, account_holder, balance, overdraft_limit):\n",
    "        super().__init__(account_number, account_holder, balance)\n",
    "        self.overdraft_limit = overdraft_limit\n",
    "\n",
    "    def withdraw(self, amount):\n",
    "        if amount <= (self.balance + self.overdraft_limit):\n",
    "            self.balance -= amount\n",
    "            print(f\"Withdrew {amount}. New balance: {self.balance}\")\n",
    "        else:\n",
    "            print(\"Cannot withdraw beyond overdraft limit!\")\n",
    "\n",
    "# Example usage\n",
    "savings_account = SavingsAccount(\"SA001\", \"John Doe\", 5000, 5)\n",
    "savings_account.display_details()  # Output account details\n",
    "\n",
    "balance = savings_account.deposit(2000)  # Deposit money\n",
    "print('balance',balance)\n",
    "savings_account.withdraw(1500)  # Withdraw money\n",
    "\n",
    "current_account = CurrentAccount(\"CA001\", \"Jane Smith\", 10000, 5000)\n",
    "current_account.display_details()  # Output account details\n",
    "\n",
    "current_account.deposit(3000)  # Deposit money\n",
    "current_account.withdraw(12000)  # Attempt to withdraw more than balance + overdraft limit\n"
   ]
  },
  {
   "cell_type": "code",
   "execution_count": null,
   "metadata": {},
   "outputs": [],
   "source": []
  }
 ],
 "metadata": {
  "kernelspec": {
   "display_name": "Python 3",
   "language": "python",
   "name": "python3"
  },
  "language_info": {
   "codemirror_mode": {
    "name": "ipython",
    "version": 3
   },
   "file_extension": ".py",
   "mimetype": "text/x-python",
   "name": "python",
   "nbconvert_exporter": "python",
   "pygments_lexer": "ipython3",
   "version": "3.11.4"
  },
  "toc": {
   "base_numbering": 1,
   "nav_menu": {},
   "number_sections": false,
   "sideBar": false,
   "skip_h1_title": false,
   "title_cell": "Table of Contents",
   "title_sidebar": "Contents",
   "toc_cell": false,
   "toc_position": {
    "height": "830.4px",
    "left": "21px",
    "top": "133.6px",
    "width": "409.6px"
   },
   "toc_section_display": true,
   "toc_window_display": true
  }
 },
 "nbformat": 4,
 "nbformat_minor": 4
}
